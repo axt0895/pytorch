{
 "cells": [
  {
   "cell_type": "code",
   "execution_count": 1,
   "id": "6e97a9e4",
   "metadata": {},
   "outputs": [],
   "source": [
    "%matplotlib inline\n",
    "\n",
    "import numpy as np\n",
    "import pandas as pd\n",
    "import matplotlib.pyplot as plt\n",
    "\n",
    "import torch"
   ]
  },
  {
   "cell_type": "code",
   "execution_count": 8,
   "id": "9e542818",
   "metadata": {},
   "outputs": [],
   "source": [
    "data = [[1, 2], [3, 4.0]]"
   ]
  },
  {
   "cell_type": "code",
   "execution_count": 9,
   "id": "4fe8c06e",
   "metadata": {},
   "outputs": [
    {
     "data": {
      "text/plain": [
       "tensor([[1., 2.],\n",
       "        [3., 4.]])"
      ]
     },
     "execution_count": 9,
     "metadata": {},
     "output_type": "execute_result"
    }
   ],
   "source": [
    "x_data = torch.tensor(data)\n",
    "x_data"
   ]
  },
  {
   "cell_type": "code",
   "execution_count": 10,
   "id": "ed44c2e8",
   "metadata": {},
   "outputs": [
    {
     "data": {
      "text/plain": [
       "tensor([[1., 2.],\n",
       "        [3., 4.]], dtype=torch.float64)"
      ]
     },
     "execution_count": 10,
     "metadata": {},
     "output_type": "execute_result"
    }
   ],
   "source": [
    "numpy_array = np.array(data)\n",
    "x_np = torch.from_numpy(numpy_array)\n",
    "x_np"
   ]
  },
  {
   "cell_type": "code",
   "execution_count": 11,
   "id": "c6b0ec2b",
   "metadata": {},
   "outputs": [
    {
     "data": {
      "text/plain": [
       "array([[1., 2.],\n",
       "       [3., 4.]])"
      ]
     },
     "execution_count": 11,
     "metadata": {},
     "output_type": "execute_result"
    }
   ],
   "source": [
    "numpy_array"
   ]
  },
  {
   "cell_type": "code",
   "execution_count": 14,
   "id": "a425876e",
   "metadata": {},
   "outputs": [
    {
     "data": {
      "text/plain": [
       "tensor([[1., 2.],\n",
       "        [3., 4.]])"
      ]
     },
     "execution_count": 14,
     "metadata": {},
     "output_type": "execute_result"
    }
   ],
   "source": [
    "x_data"
   ]
  },
  {
   "cell_type": "code",
   "execution_count": 15,
   "id": "4006d169",
   "metadata": {},
   "outputs": [
    {
     "data": {
      "text/plain": [
       "tensor([[1., 1.],\n",
       "        [1., 1.]])"
      ]
     },
     "execution_count": 15,
     "metadata": {},
     "output_type": "execute_result"
    }
   ],
   "source": [
    "x_ones = torch.ones_like(x_data)\n",
    "x_ones"
   ]
  },
  {
   "cell_type": "code",
   "execution_count": 17,
   "id": "11209f4b",
   "metadata": {},
   "outputs": [
    {
     "data": {
      "text/plain": [
       "tensor([[0., 0.],\n",
       "        [0., 0.]])"
      ]
     },
     "execution_count": 17,
     "metadata": {},
     "output_type": "execute_result"
    }
   ],
   "source": [
    "x_zeroes = torch.zeros_like(x_data)\n",
    "x_zeroes"
   ]
  },
  {
   "cell_type": "code",
   "execution_count": 18,
   "id": "efe65e87",
   "metadata": {},
   "outputs": [
    {
     "data": {
      "text/plain": [
       "tensor([[1., 1., 1.],\n",
       "        [1., 1., 1.]])"
      ]
     },
     "execution_count": 18,
     "metadata": {},
     "output_type": "execute_result"
    }
   ],
   "source": [
    "torch.ones(2, 3)"
   ]
  },
  {
   "cell_type": "code",
   "execution_count": 19,
   "id": "8428054a",
   "metadata": {},
   "outputs": [
    {
     "data": {
      "text/plain": [
       "tensor([[0., 0., 0., 0., 0.],\n",
       "        [0., 0., 0., 0., 0.],\n",
       "        [0., 0., 0., 0., 0.],\n",
       "        [0., 0., 0., 0., 0.]])"
      ]
     },
     "execution_count": 19,
     "metadata": {},
     "output_type": "execute_result"
    }
   ],
   "source": [
    "torch.zeros(4, 5)"
   ]
  },
  {
   "cell_type": "code",
   "execution_count": 20,
   "id": "96416583",
   "metadata": {},
   "outputs": [
    {
     "data": {
      "text/plain": [
       "tensor([[0.5613, 0.5087, 0.3415, 0.7431, 0.2852, 0.6129, 0.5286, 0.6319, 0.1121],\n",
       "        [0.0515, 0.8146, 0.2254, 0.0790, 0.9580, 0.7059, 0.9990, 0.6226, 0.1528],\n",
       "        [0.4996, 0.8736, 0.8547, 0.2316, 0.8026, 0.7828, 0.4683, 0.7128, 0.5627],\n",
       "        [0.7830, 0.2858, 0.7257, 0.6121, 0.6333, 0.4720, 0.8312, 0.7053, 0.6428],\n",
       "        [0.1954, 0.9313, 0.2100, 0.3403, 0.7780, 0.7379, 0.1141, 0.5725, 0.8770],\n",
       "        [0.5914, 0.1229, 0.2942, 0.6065, 0.2012, 0.4297, 0.5649, 0.3156, 0.1954],\n",
       "        [0.4604, 0.9741, 0.9787, 0.3805, 0.0600, 0.1253, 0.3304, 0.8565, 0.0027],\n",
       "        [0.5833, 0.5216, 0.3607, 0.8385, 0.6499, 0.1689, 0.3432, 0.5745, 0.1610]])"
      ]
     },
     "execution_count": 20,
     "metadata": {},
     "output_type": "execute_result"
    }
   ],
   "source": [
    "torch.rand(8, 9)"
   ]
  },
  {
   "cell_type": "code",
   "execution_count": 23,
   "id": "aaea7c35",
   "metadata": {},
   "outputs": [
    {
     "data": {
      "text/plain": [
       "tensor([[0.1869, 0.9025, 0.0587, 0.0910, 0.9462],\n",
       "        [0.4379, 0.5585, 0.3074, 0.1569, 0.2843],\n",
       "        [0.3614, 0.5531, 0.4738, 0.6191, 0.7890],\n",
       "        [0.6743, 0.5176, 0.2595, 0.0721, 0.1071]])"
      ]
     },
     "execution_count": 23,
     "metadata": {},
     "output_type": "execute_result"
    }
   ],
   "source": [
    "tensor = torch.rand(4, 5)\n",
    "tensor"
   ]
  },
  {
   "cell_type": "code",
   "execution_count": 24,
   "id": "a3cb67ec",
   "metadata": {},
   "outputs": [
    {
     "data": {
      "text/plain": [
       "torch.Size([4, 5])"
      ]
     },
     "execution_count": 24,
     "metadata": {},
     "output_type": "execute_result"
    }
   ],
   "source": [
    "tensor.shape"
   ]
  },
  {
   "cell_type": "code",
   "execution_count": 25,
   "id": "4dbe026a",
   "metadata": {},
   "outputs": [
    {
     "data": {
      "text/plain": [
       "torch.float32"
      ]
     },
     "execution_count": 25,
     "metadata": {},
     "output_type": "execute_result"
    }
   ],
   "source": [
    "tensor.dtype"
   ]
  },
  {
   "cell_type": "code",
   "execution_count": 26,
   "id": "8628f040",
   "metadata": {},
   "outputs": [
    {
     "data": {
      "text/plain": [
       "device(type='cpu')"
      ]
     },
     "execution_count": 26,
     "metadata": {},
     "output_type": "execute_result"
    }
   ],
   "source": [
    "tensor.device"
   ]
  },
  {
   "cell_type": "code",
   "execution_count": 27,
   "id": "baebc80d",
   "metadata": {},
   "outputs": [],
   "source": [
    "if torch.cuda.is_available():\n",
    "    tensor = tensor.to('cuda')"
   ]
  },
  {
   "cell_type": "code",
   "execution_count": 28,
   "id": "8844f50e",
   "metadata": {},
   "outputs": [
    {
     "data": {
      "text/plain": [
       "tensor([[0.1869, 0.9025, 0.0587, 0.0910, 0.9462],\n",
       "        [0.4379, 0.5585, 0.3074, 0.1569, 0.2843],\n",
       "        [0.3614, 0.5531, 0.4738, 0.6191, 0.7890],\n",
       "        [0.6743, 0.5176, 0.2595, 0.0721, 0.1071]])"
      ]
     },
     "execution_count": 28,
     "metadata": {},
     "output_type": "execute_result"
    }
   ],
   "source": [
    "tensor"
   ]
  },
  {
   "cell_type": "code",
   "execution_count": 29,
   "id": "76e4ed0d",
   "metadata": {},
   "outputs": [
    {
     "data": {
      "text/plain": [
       "tensor([0.9462, 0.2843, 0.7890, 0.1071])"
      ]
     },
     "execution_count": 29,
     "metadata": {},
     "output_type": "execute_result"
    }
   ],
   "source": [
    "tensor[:, -1]"
   ]
  },
  {
   "cell_type": "code",
   "execution_count": null,
   "id": "ee08d8fa",
   "metadata": {},
   "outputs": [],
   "source": []
  },
  {
   "cell_type": "code",
   "execution_count": 9,
   "id": "01bae97a",
   "metadata": {},
   "outputs": [
    {
     "data": {
      "text/plain": [
       "[[1, 2, 3], [4, 5, 6], [7, 8, 9]]"
      ]
     },
     "execution_count": 9,
     "metadata": {},
     "output_type": "execute_result"
    }
   ],
   "source": [
    "x_data = [[1,2,3], [4, 5, 6], [7,8,9]]\n",
    "x_data"
   ]
  },
  {
   "cell_type": "code",
   "execution_count": 14,
   "id": "89844aa0",
   "metadata": {},
   "outputs": [
    {
     "data": {
      "text/plain": [
       "tensor([[1, 2, 3],\n",
       "        [4, 5, 6],\n",
       "        [7, 8, 9]])"
      ]
     },
     "execution_count": 14,
     "metadata": {},
     "output_type": "execute_result"
    }
   ],
   "source": [
    "x_tensor = torch.tensor(x_data)\n",
    "x_tensor"
   ]
  },
  {
   "cell_type": "code",
   "execution_count": 13,
   "id": "a13aefdd",
   "metadata": {},
   "outputs": [
    {
     "data": {
      "text/plain": [
       "tensor([[1, 1, 1],\n",
       "        [1, 1, 1],\n",
       "        [1, 1, 1]])"
      ]
     },
     "execution_count": 13,
     "metadata": {},
     "output_type": "execute_result"
    }
   ],
   "source": [
    "x_ones = torch.ones_like(x_tensor)\n",
    "x_ones"
   ]
  },
  {
   "cell_type": "code",
   "execution_count": 18,
   "id": "bd9082d9",
   "metadata": {},
   "outputs": [
    {
     "data": {
      "text/plain": [
       "tensor([[0.8179, 0.5158, 0.5963],\n",
       "        [0.5698, 0.9020, 0.1859],\n",
       "        [0.2109, 0.7268, 0.7318]])"
      ]
     },
     "execution_count": 18,
     "metadata": {},
     "output_type": "execute_result"
    }
   ],
   "source": [
    "x_rand = torch.rand_like(x_tensor, dtype = torch.float)\n",
    "x_rand"
   ]
  },
  {
   "cell_type": "code",
   "execution_count": 21,
   "id": "df79f5ca",
   "metadata": {},
   "outputs": [
    {
     "data": {
      "text/plain": [
       "(2, 3)"
      ]
     },
     "execution_count": 21,
     "metadata": {},
     "output_type": "execute_result"
    }
   ],
   "source": [
    "shape = (2,3,)\n",
    "shape"
   ]
  },
  {
   "cell_type": "code",
   "execution_count": 24,
   "id": "e525fdf3",
   "metadata": {},
   "outputs": [
    {
     "data": {
      "text/plain": [
       "tensor([[0.9021, 0.8507, 0.2412],\n",
       "        [0.1085, 0.1362, 0.3397]])"
      ]
     },
     "execution_count": 24,
     "metadata": {},
     "output_type": "execute_result"
    }
   ],
   "source": [
    "rand_tensor = torch.rand(shape)\n",
    "rand_tensor"
   ]
  },
  {
   "cell_type": "code",
   "execution_count": 26,
   "id": "098f182a",
   "metadata": {},
   "outputs": [
    {
     "data": {
      "text/plain": [
       "tensor([[1., 1., 1.],\n",
       "        [1., 1., 1.]])"
      ]
     },
     "execution_count": 26,
     "metadata": {},
     "output_type": "execute_result"
    }
   ],
   "source": [
    "ones_tensor = torch.ones(shape)\n",
    "ones_tensor"
   ]
  },
  {
   "cell_type": "code",
   "execution_count": 28,
   "id": "bf1a25d2",
   "metadata": {},
   "outputs": [
    {
     "data": {
      "text/plain": [
       "tensor([[0., 0., 0.],\n",
       "        [0., 0., 0.]])"
      ]
     },
     "execution_count": 28,
     "metadata": {},
     "output_type": "execute_result"
    }
   ],
   "source": [
    "zeros_tensor = torch.zeros(shape)\n",
    "zeros_tensor"
   ]
  },
  {
   "cell_type": "code",
   "execution_count": 29,
   "id": "c5eb591c",
   "metadata": {},
   "outputs": [
    {
     "data": {
      "text/plain": [
       "tensor([[0.2818, 0.3768, 0.8450, 0.2482, 0.6989, 0.9378, 0.7797],\n",
       "        [0.6198, 0.8571, 0.2394, 0.1603, 0.2169, 0.9810, 0.2872],\n",
       "        [0.9571, 0.5272, 0.0185, 0.2890, 0.0692, 0.9859, 0.0695],\n",
       "        [0.7169, 0.0948, 0.7652, 0.9401, 0.4689, 0.1913, 0.4024],\n",
       "        [0.2874, 0.7615, 0.9917, 0.2467, 0.1586, 0.7015, 0.6122],\n",
       "        [0.1804, 0.6357, 0.6877, 0.4208, 0.6624, 0.6890, 0.7129]])"
      ]
     },
     "execution_count": 29,
     "metadata": {},
     "output_type": "execute_result"
    }
   ],
   "source": [
    "torch.rand(6,7)"
   ]
  },
  {
   "cell_type": "code",
   "execution_count": 30,
   "id": "2a0b12c0",
   "metadata": {},
   "outputs": [
    {
     "data": {
      "text/plain": [
       "tensor([[0.0932, 0.2111, 0.5525, 0.7084, 0.6457, 0.5437, 0.9344, 0.9241],\n",
       "        [0.9939, 0.9822, 0.6648, 0.4093, 0.6129, 0.2301, 0.2453, 0.4021],\n",
       "        [0.4505, 0.3551, 0.1170, 0.1892, 0.6672, 0.7081, 0.3281, 0.0721],\n",
       "        [0.2925, 0.9228, 0.1157, 0.8157, 0.6076, 0.2871, 0.4623, 0.0673],\n",
       "        [0.6712, 0.0901, 0.9322, 0.7527, 0.5452, 0.2036, 0.4948, 0.0425],\n",
       "        [0.6222, 0.6697, 0.5354, 0.5378, 0.6453, 0.6232, 0.2426, 0.5898],\n",
       "        [0.4483, 0.5014, 0.5677, 0.0476, 0.6131, 0.9389, 0.0898, 0.7601],\n",
       "        [0.1090, 0.4977, 0.8359, 0.9024, 0.1696, 0.2895, 0.2537, 0.0779],\n",
       "        [0.3190, 0.5969, 0.7192, 0.6263, 0.8075, 0.2419, 0.5469, 0.5283]])"
      ]
     },
     "execution_count": 30,
     "metadata": {},
     "output_type": "execute_result"
    }
   ],
   "source": [
    "torch.rand(9,8)"
   ]
  },
  {
   "cell_type": "code",
   "execution_count": 31,
   "id": "a6b9a9c7",
   "metadata": {},
   "outputs": [
    {
     "data": {
      "text/plain": [
       "tensor([[1., 1., 1., 1., 1., 1., 1.],\n",
       "        [1., 1., 1., 1., 1., 1., 1.],\n",
       "        [1., 1., 1., 1., 1., 1., 1.],\n",
       "        [1., 1., 1., 1., 1., 1., 1.],\n",
       "        [1., 1., 1., 1., 1., 1., 1.],\n",
       "        [1., 1., 1., 1., 1., 1., 1.]])"
      ]
     },
     "execution_count": 31,
     "metadata": {},
     "output_type": "execute_result"
    }
   ],
   "source": [
    "torch.ones(6, 7)"
   ]
  },
  {
   "cell_type": "code",
   "execution_count": 32,
   "id": "dbf63796",
   "metadata": {},
   "outputs": [
    {
     "data": {
      "text/plain": [
       "tensor([[0., 0., 0., 0., 0., 0., 0., 0., 0.],\n",
       "        [0., 0., 0., 0., 0., 0., 0., 0., 0.],\n",
       "        [0., 0., 0., 0., 0., 0., 0., 0., 0.],\n",
       "        [0., 0., 0., 0., 0., 0., 0., 0., 0.],\n",
       "        [0., 0., 0., 0., 0., 0., 0., 0., 0.],\n",
       "        [0., 0., 0., 0., 0., 0., 0., 0., 0.],\n",
       "        [0., 0., 0., 0., 0., 0., 0., 0., 0.]])"
      ]
     },
     "execution_count": 32,
     "metadata": {},
     "output_type": "execute_result"
    }
   ],
   "source": [
    "torch.zeros(7, 9)"
   ]
  },
  {
   "cell_type": "code",
   "execution_count": 34,
   "id": "1239d4db",
   "metadata": {},
   "outputs": [
    {
     "data": {
      "text/plain": [
       "tensor([[0.1882, 0.1740, 0.2225, 0.6902, 0.5143, 0.0356, 0.1898],\n",
       "        [0.7189, 0.7946, 0.9036, 0.1609, 0.3311, 0.5311, 0.3742],\n",
       "        [0.0186, 0.1769, 0.7262, 0.2127, 0.8777, 0.0184, 0.8275],\n",
       "        [0.6489, 0.4923, 0.4399, 0.2049, 0.3851, 0.7603, 0.6382],\n",
       "        [0.8630, 0.5004, 0.8998, 0.4037, 0.9083, 0.5517, 0.4393]])"
      ]
     },
     "execution_count": 34,
     "metadata": {},
     "output_type": "execute_result"
    }
   ],
   "source": [
    "tensor = torch.rand(5, 7)\n",
    "tensor"
   ]
  },
  {
   "cell_type": "code",
   "execution_count": 35,
   "id": "4332a98a",
   "metadata": {},
   "outputs": [
    {
     "name": "stdout",
     "output_type": "stream",
     "text": [
      "Shape of a tensor: torch.Size([5, 7])\n",
      "Datatype of a tensor: torch.float32\n",
      "Device type of a tensor: cpu\n"
     ]
    }
   ],
   "source": [
    "print(f'Shape of a tensor: {tensor.shape}')\n",
    "print(f'Datatype of a tensor: {tensor.dtype}')\n",
    "print(f'Device type of a tensor: {tensor.device}')"
   ]
  },
  {
   "cell_type": "code",
   "execution_count": 37,
   "id": "33909502",
   "metadata": {},
   "outputs": [],
   "source": [
    "if torch.cuda.is_available():\n",
    "    tensor = tensor.to('cuda')"
   ]
  },
  {
   "cell_type": "code",
   "execution_count": 38,
   "id": "03b07088",
   "metadata": {},
   "outputs": [
    {
     "data": {
      "text/plain": [
       "tensor([[0.3176, 0.8399, 0.8422, 0.9956, 0.6695, 0.6444, 0.9754, 0.1797],\n",
       "        [0.2231, 0.5802, 0.6407, 0.6637, 0.5973, 0.7044, 0.8850, 0.3223],\n",
       "        [0.8912, 0.2368, 0.3079, 0.5627, 0.4011, 0.0643, 0.1935, 0.1228],\n",
       "        [0.5335, 0.5676, 0.1176, 0.9042, 0.5731, 0.7794, 0.2205, 0.6155],\n",
       "        [0.8613, 0.5028, 0.7334, 0.3776, 0.2502, 0.4311, 0.2739, 0.0433],\n",
       "        [0.0295, 0.1474, 0.8055, 0.7355, 0.9162, 0.6803, 0.8355, 0.7974]])"
      ]
     },
     "execution_count": 38,
     "metadata": {},
     "output_type": "execute_result"
    }
   ],
   "source": [
    "tensor = torch.rand(6, 8)\n",
    "tensor"
   ]
  },
  {
   "cell_type": "code",
   "execution_count": 41,
   "id": "ab70c787",
   "metadata": {},
   "outputs": [
    {
     "name": "stdout",
     "output_type": "stream",
     "text": [
      "First Row: tensor([0.3176, 0.8399, 0.8422, 0.9956, 0.6695, 0.6444, 0.9754, 0.1797])\n",
      "First Column: tensor([0.3176, 0.2231, 0.8912, 0.5335, 0.8613, 0.0295])\n",
      "Last Column: tensor([0.1797, 0.3223, 0.1228, 0.6155, 0.0433, 0.7974])\n"
     ]
    }
   ],
   "source": [
    "print(f'First Row: {tensor[0]}')\n",
    "print(f'First Column: {tensor[:, 0]}')\n",
    "print(f'Last Column: {tensor[:, -1]}')"
   ]
  },
  {
   "cell_type": "code",
   "execution_count": 42,
   "id": "415b29d6",
   "metadata": {},
   "outputs": [
    {
     "data": {
      "text/plain": [
       "tensor([[1., 1., 1., 1., 1.],\n",
       "        [1., 1., 1., 1., 1.],\n",
       "        [1., 1., 1., 1., 1.],\n",
       "        [1., 1., 1., 1., 1.],\n",
       "        [1., 1., 1., 1., 1.]])"
      ]
     },
     "execution_count": 42,
     "metadata": {},
     "output_type": "execute_result"
    }
   ],
   "source": [
    "ones = torch.ones(5, 5)\n",
    "ones"
   ]
  },
  {
   "cell_type": "code",
   "execution_count": 43,
   "id": "741086f9",
   "metadata": {},
   "outputs": [],
   "source": [
    "ones [:, [1, 3]]= 0"
   ]
  },
  {
   "cell_type": "code",
   "execution_count": 44,
   "id": "5b2c711c",
   "metadata": {},
   "outputs": [
    {
     "data": {
      "text/plain": [
       "tensor([[1., 0., 1., 0., 1.],\n",
       "        [1., 0., 1., 0., 1.],\n",
       "        [1., 0., 1., 0., 1.],\n",
       "        [1., 0., 1., 0., 1.],\n",
       "        [1., 0., 1., 0., 1.]])"
      ]
     },
     "execution_count": 44,
     "metadata": {},
     "output_type": "execute_result"
    }
   ],
   "source": [
    "ones"
   ]
  },
  {
   "cell_type": "code",
   "execution_count": 46,
   "id": "5865a8cf",
   "metadata": {},
   "outputs": [
    {
     "data": {
      "text/plain": [
       "tensor([[1., 0., 1., 0., 1.],\n",
       "        [1., 0., 1., 0., 1.],\n",
       "        [1., 0., 1., 0., 1.],\n",
       "        [1., 0., 1., 0., 1.],\n",
       "        [1., 0., 1., 0., 1.],\n",
       "        [1., 0., 1., 0., 1.],\n",
       "        [1., 0., 1., 0., 1.],\n",
       "        [1., 0., 1., 0., 1.],\n",
       "        [1., 0., 1., 0., 1.],\n",
       "        [1., 0., 1., 0., 1.]])"
      ]
     },
     "execution_count": 46,
     "metadata": {},
     "output_type": "execute_result"
    }
   ],
   "source": [
    "torch.cat([ones, ones], dim = 0)"
   ]
  },
  {
   "cell_type": "code",
   "execution_count": 47,
   "id": "129a488e",
   "metadata": {},
   "outputs": [
    {
     "data": {
      "text/plain": [
       "tensor([[1., 0., 1., 0., 1., 1., 0., 1., 0., 1.],\n",
       "        [1., 0., 1., 0., 1., 1., 0., 1., 0., 1.],\n",
       "        [1., 0., 1., 0., 1., 1., 0., 1., 0., 1.],\n",
       "        [1., 0., 1., 0., 1., 1., 0., 1., 0., 1.],\n",
       "        [1., 0., 1., 0., 1., 1., 0., 1., 0., 1.]])"
      ]
     },
     "execution_count": 47,
     "metadata": {},
     "output_type": "execute_result"
    }
   ],
   "source": [
    "torch.cat([ones, ones], dim = 1)"
   ]
  },
  {
   "cell_type": "code",
   "execution_count": 48,
   "id": "1942204a",
   "metadata": {},
   "outputs": [],
   "source": [
    "tensor = torch.rand(3, 5)\n"
   ]
  },
  {
   "cell_type": "code",
   "execution_count": 52,
   "id": "7b50c851",
   "metadata": {},
   "outputs": [
    {
     "data": {
      "text/plain": [
       "tensor([[2.4027, 0.7659, 2.2308],\n",
       "        [0.7659, 1.1015, 0.8723],\n",
       "        [2.2308, 0.8723, 2.2972]])"
      ]
     },
     "execution_count": 52,
     "metadata": {},
     "output_type": "execute_result"
    }
   ],
   "source": [
    "y1 = tensor @ tensor.T\n",
    "y1"
   ]
  },
  {
   "cell_type": "code",
   "execution_count": 53,
   "id": "bd670abb",
   "metadata": {},
   "outputs": [
    {
     "data": {
      "text/plain": [
       "tensor([[0.4051, 0.9656, 0.3748],\n",
       "        [0.7115, 0.7638, 0.4456],\n",
       "        [0.1630, 0.8117, 0.8822]])"
      ]
     },
     "execution_count": 53,
     "metadata": {},
     "output_type": "execute_result"
    }
   ],
   "source": [
    "y3 = torch.rand_like(y1)\n",
    "y3"
   ]
  },
  {
   "cell_type": "code",
   "execution_count": 54,
   "id": "752b9097",
   "metadata": {},
   "outputs": [
    {
     "data": {
      "text/plain": [
       "tensor([[11.3362,  4.6299, 11.1527],\n",
       "        [ 4.6299,  2.5609,  4.6732],\n",
       "        [11.1527,  4.6732, 11.0144]])"
      ]
     },
     "execution_count": 54,
     "metadata": {},
     "output_type": "execute_result"
    }
   ],
   "source": [
    "torch.matmul(y1, y1.T, out = y3)"
   ]
  },
  {
   "cell_type": "code",
   "execution_count": 55,
   "id": "4159dd4a",
   "metadata": {},
   "outputs": [
    {
     "data": {
      "text/plain": [
       "tensor([[11.3362,  4.6299, 11.1527],\n",
       "        [ 4.6299,  2.5609,  4.6732],\n",
       "        [11.1527,  4.6732, 11.0144]])"
      ]
     },
     "execution_count": 55,
     "metadata": {},
     "output_type": "execute_result"
    }
   ],
   "source": [
    "y3"
   ]
  },
  {
   "cell_type": "code",
   "execution_count": 56,
   "id": "c41e40a3",
   "metadata": {},
   "outputs": [
    {
     "data": {
      "text/plain": [
       "tensor([[0.1890, 0.7824, 0.9170, 0.7714, 0.5646],\n",
       "        [0.9132, 0.1940, 0.0810, 0.1473, 0.4492],\n",
       "        [0.2173, 0.7744, 0.4981, 0.8864, 0.7852]])"
      ]
     },
     "execution_count": 56,
     "metadata": {},
     "output_type": "execute_result"
    }
   ],
   "source": [
    "tensor"
   ]
  },
  {
   "cell_type": "code",
   "execution_count": 57,
   "id": "8587e694",
   "metadata": {},
   "outputs": [],
   "source": [
    "z = tensor * tensor"
   ]
  },
  {
   "cell_type": "code",
   "execution_count": 59,
   "id": "e8f51cb7",
   "metadata": {},
   "outputs": [
    {
     "data": {
      "text/plain": [
       "tensor([[0.0357, 0.6121, 0.8410, 0.5951, 0.3188],\n",
       "        [0.8339, 0.0376, 0.0066, 0.0217, 0.2018],\n",
       "        [0.0472, 0.5997, 0.2481, 0.7857, 0.6165]])"
      ]
     },
     "execution_count": 59,
     "metadata": {},
     "output_type": "execute_result"
    }
   ],
   "source": [
    "z"
   ]
  },
  {
   "cell_type": "code",
   "execution_count": 60,
   "id": "075930c0",
   "metadata": {},
   "outputs": [],
   "source": [
    "z = tensor.mul(tensor)"
   ]
  },
  {
   "cell_type": "code",
   "execution_count": 61,
   "id": "248ca5ae",
   "metadata": {},
   "outputs": [
    {
     "data": {
      "text/plain": [
       "tensor([[0.0357, 0.6121, 0.8410, 0.5951, 0.3188],\n",
       "        [0.8339, 0.0376, 0.0066, 0.0217, 0.2018],\n",
       "        [0.0472, 0.5997, 0.2481, 0.7857, 0.6165]])"
      ]
     },
     "execution_count": 61,
     "metadata": {},
     "output_type": "execute_result"
    }
   ],
   "source": [
    "z"
   ]
  },
  {
   "cell_type": "code",
   "execution_count": 62,
   "id": "cda25701",
   "metadata": {},
   "outputs": [
    {
     "data": {
      "text/plain": [
       "tensor([[0.1890, 0.7824, 0.9170, 0.7714, 0.5646],\n",
       "        [0.9132, 0.1940, 0.0810, 0.1473, 0.4492],\n",
       "        [0.2173, 0.7744, 0.4981, 0.8864, 0.7852]])"
      ]
     },
     "execution_count": 62,
     "metadata": {},
     "output_type": "execute_result"
    }
   ],
   "source": [
    "tensor"
   ]
  },
  {
   "cell_type": "code",
   "execution_count": 63,
   "id": "58f5a3f0",
   "metadata": {},
   "outputs": [
    {
     "data": {
      "text/plain": [
       "tensor(8.1705)"
      ]
     },
     "execution_count": 63,
     "metadata": {},
     "output_type": "execute_result"
    }
   ],
   "source": [
    "tensor.sum()"
   ]
  },
  {
   "cell_type": "code",
   "execution_count": 65,
   "id": "3d8588b6",
   "metadata": {},
   "outputs": [
    {
     "name": "stdout",
     "output_type": "stream",
     "text": [
      "Tensor: tensor([[0.1890, 0.7824, 0.9170, 0.7714, 0.5646],\n",
      "        [0.9132, 0.1940, 0.0810, 0.1473, 0.4492],\n",
      "        [0.2173, 0.7744, 0.4981, 0.8864, 0.7852]])\n"
     ]
    }
   ],
   "source": [
    "print(f'Tensor: {tensor}')"
   ]
  },
  {
   "cell_type": "code",
   "execution_count": 66,
   "id": "2776085a",
   "metadata": {},
   "outputs": [
    {
     "data": {
      "text/plain": [
       "tensor([[5.1890, 5.7824, 5.9170, 5.7714, 5.5646],\n",
       "        [5.9132, 5.1940, 5.0810, 5.1473, 5.4492],\n",
       "        [5.2173, 5.7744, 5.4981, 5.8864, 5.7852]])"
      ]
     },
     "execution_count": 66,
     "metadata": {},
     "output_type": "execute_result"
    }
   ],
   "source": [
    "tensor.add_(5)"
   ]
  },
  {
   "cell_type": "code",
   "execution_count": 67,
   "id": "9b7b0d8c",
   "metadata": {},
   "outputs": [
    {
     "data": {
      "text/plain": [
       "tensor([[-4.8110, -4.2176, -4.0830, -4.2286, -4.4354],\n",
       "        [-4.0868, -4.8060, -4.9190, -4.8527, -4.5508],\n",
       "        [-4.7827, -4.2256, -4.5019, -4.1136, -4.2148]])"
      ]
     },
     "execution_count": 67,
     "metadata": {},
     "output_type": "execute_result"
    }
   ],
   "source": [
    "tensor.subtract_(10)"
   ]
  },
  {
   "cell_type": "code",
   "execution_count": 68,
   "id": "b7345ab9",
   "metadata": {},
   "outputs": [
    {
     "data": {
      "text/plain": [
       "tensor([[4.8110, 4.2176, 4.0830, 4.2286, 4.4354],\n",
       "        [4.0868, 4.8060, 4.9190, 4.8527, 4.5508],\n",
       "        [4.7827, 4.2256, 4.5019, 4.1136, 4.2148]])"
      ]
     },
     "execution_count": 68,
     "metadata": {},
     "output_type": "execute_result"
    }
   ],
   "source": [
    "tensor.multiply_(-1)"
   ]
  },
  {
   "cell_type": "code",
   "execution_count": 69,
   "id": "9be0a415",
   "metadata": {},
   "outputs": [
    {
     "data": {
      "text/plain": [
       "tensor([[4.8110, 4.2176, 4.0830, 4.2286, 4.4354],\n",
       "        [4.0868, 4.8060, 4.9190, 4.8527, 4.5508],\n",
       "        [4.7827, 4.2256, 4.5019, 4.1136, 4.2148]])"
      ]
     },
     "execution_count": 69,
     "metadata": {},
     "output_type": "execute_result"
    }
   ],
   "source": [
    "tensor"
   ]
  },
  {
   "cell_type": "code",
   "execution_count": 70,
   "id": "f13bdb90",
   "metadata": {},
   "outputs": [
    {
     "data": {
      "text/plain": [
       "tensor([[0.8110, 0.2176, 0.0830, 0.2286, 0.4354],\n",
       "        [0.0868, 0.8060, 0.9190, 0.8527, 0.5508],\n",
       "        [0.7827, 0.2256, 0.5019, 0.1136, 0.2148]])"
      ]
     },
     "execution_count": 70,
     "metadata": {},
     "output_type": "execute_result"
    }
   ],
   "source": [
    "tensor.sub_(4)"
   ]
  },
  {
   "cell_type": "code",
   "execution_count": 76,
   "id": "8408355d",
   "metadata": {},
   "outputs": [],
   "source": [
    "t = torch.ones(5)"
   ]
  },
  {
   "cell_type": "code",
   "execution_count": 77,
   "id": "07e13d62",
   "metadata": {},
   "outputs": [],
   "source": [
    "n = t.numpy()"
   ]
  },
  {
   "cell_type": "code",
   "execution_count": 78,
   "id": "8fb127ad",
   "metadata": {},
   "outputs": [
    {
     "data": {
      "text/plain": [
       "tensor([2., 2., 2., 2., 2.])"
      ]
     },
     "execution_count": 78,
     "metadata": {},
     "output_type": "execute_result"
    }
   ],
   "source": [
    "t.add_(1)"
   ]
  },
  {
   "cell_type": "code",
   "execution_count": 79,
   "id": "9f8d202b",
   "metadata": {},
   "outputs": [
    {
     "data": {
      "text/plain": [
       "tensor([2., 2., 2., 2., 2.])"
      ]
     },
     "execution_count": 79,
     "metadata": {},
     "output_type": "execute_result"
    }
   ],
   "source": [
    "t"
   ]
  },
  {
   "cell_type": "code",
   "execution_count": 80,
   "id": "b52d40b8",
   "metadata": {},
   "outputs": [
    {
     "data": {
      "text/plain": [
       "array([2., 2., 2., 2., 2.], dtype=float32)"
      ]
     },
     "execution_count": 80,
     "metadata": {},
     "output_type": "execute_result"
    }
   ],
   "source": [
    "n"
   ]
  },
  {
   "cell_type": "code",
   "execution_count": 81,
   "id": "9edff9aa",
   "metadata": {},
   "outputs": [],
   "source": [
    "n = np.ones(5)"
   ]
  },
  {
   "cell_type": "code",
   "execution_count": 82,
   "id": "926fb74e",
   "metadata": {},
   "outputs": [],
   "source": [
    "t = torch.from_numpy(n)"
   ]
  },
  {
   "cell_type": "code",
   "execution_count": 83,
   "id": "95168a06",
   "metadata": {},
   "outputs": [
    {
     "data": {
      "text/plain": [
       "array([1., 1., 1., 1., 1.])"
      ]
     },
     "execution_count": 83,
     "metadata": {},
     "output_type": "execute_result"
    }
   ],
   "source": [
    "n"
   ]
  },
  {
   "cell_type": "code",
   "execution_count": 84,
   "id": "ae17e4eb",
   "metadata": {},
   "outputs": [
    {
     "data": {
      "text/plain": [
       "tensor([1., 1., 1., 1., 1.], dtype=torch.float64)"
      ]
     },
     "execution_count": 84,
     "metadata": {},
     "output_type": "execute_result"
    }
   ],
   "source": [
    "t"
   ]
  },
  {
   "cell_type": "code",
   "execution_count": null,
   "id": "b14a94b5",
   "metadata": {},
   "outputs": [],
   "source": []
  }
 ],
 "metadata": {
  "kernelspec": {
   "display_name": "Python 3 (ipykernel)",
   "language": "python",
   "name": "python3"
  },
  "language_info": {
   "codemirror_mode": {
    "name": "ipython",
    "version": 3
   },
   "file_extension": ".py",
   "mimetype": "text/x-python",
   "name": "python",
   "nbconvert_exporter": "python",
   "pygments_lexer": "ipython3",
   "version": "3.11.4"
  }
 },
 "nbformat": 4,
 "nbformat_minor": 5
}
